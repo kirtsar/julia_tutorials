{
 "cells": [
  {
   "cell_type": "markdown",
   "metadata": {},
   "source": [
    "# Краткое введение в Gadfly"
   ]
  },
  {
   "cell_type": "markdown",
   "metadata": {},
   "source": [
    "Пакет Gadfly для языка Julia реализует концепцию Grammar of Graphics. Пакет довольно схож по функциональности с пакетом ggplot2 из языка программирования R. Те же \"слои\", те же Geom-ы. Перейдем непосредственно к примерам!\n",
    "\n",
    "Для начала подключим пакет Gadfly.\n",
    "```julia\n",
    "using Gadfly\n",
    "```\n",
    "Попробуем для начала нарисовать что-нибудь простенькое. Скажем, график синуса.\n",
    "```julia\n",
    "plot(sin, 0, 3pi)\n",
    "```\n",
    "Должно получиться что-то наподобие:\n",
    "![alt text][logo]\n",
    "\n",
    "[logo]: https://raw.githubusercontent.com/kirtsar/julia_tutorials/master/gadfly/pics/sine.png \"Sine\"\n",
    "Всё просто: первым аргументом передается функция (без указания аргумента, только имя), вторым и третьим - начало и конец отрезка, на котором рисовать. Попробуем передать свою функцию в plot."
   ]
  },
  {
   "cell_type": "markdown",
   "metadata": {},
   "source": [
    "```julia\n",
    "function my_func(x)\n",
    "    if x < 0\n",
    "        return -2x\n",
    "    else\n",
    "        return 3x + 1\n",
    "    end\n",
    "end\n",
    "```"
   ]
  },
  {
   "cell_type": "markdown",
   "metadata": {},
   "source": [
    "```julia\n",
    "plot(my_func, -5, 5)\n",
    "```\n",
    "Теперь мы получим нечто вида:\n",
    "![alt text][logo]\n",
    "\n",
    "[logo]: https://raw.githubusercontent.com/kirtsar/julia_tutorials/master/gadfly/pics/my_func.png \"func\""
   ]
  },
  {
   "cell_type": "markdown",
   "metadata": {},
   "source": [
    "Ну а что, если мы хотим нарисовать сразу две функции на одном графике? Всё просто: надо передать в качестве первого аргумента массив из двух (трёх, четырех, etc) функций.\n",
    "```julia\n",
    "plot([sin, x -> x^3], -2, 2)\n",
    "```\n",
    "Получим следующий график:\n",
    "![alt text][logo]\n",
    "\n",
    "[logo]: https://raw.githubusercontent.com/kirtsar/julia_tutorials/master/gadfly/pics/two_funcs.png"
   ]
  },
  {
   "cell_type": "markdown",
   "metadata": {},
   "source": [
    "Вторым аргументом массива я сделал анонимную функцию x -> x^3, чтобы не плодить лишних сущностей.\n",
    "\n",
    "Всё это выглядит красиво и симпатично, и для простых графиков сойдет и такой метод, но если мы хотим что-нибудь \"понавороченней\", то необходимо уже пользоваться более продвинутыми вещами.\n",
    "\n",
    "Загрузим классический датасет цветков Ириса.\n",
    "\n",
    "```julia\n",
    "using RDatasets\n",
    "iris = dataset(\"datasets\", \"iris\");\n",
    "```\n",
    "\n",
    "Теперь построим что-нибудь интересное, например, графики SepalLength vs SepalWidth\n",
    "```julia\n",
    "plot(iris, x=:SepalLength, y=:SepalWidth, Geom.point)\n",
    "```\n",
    "![alt text][logo]\n",
    "\n",
    "[logo]: https://raw.githubusercontent.com/kirtsar/julia_tutorials/master/gadfly/pics/dots.png"
   ]
  },
  {
   "cell_type": "markdown",
   "metadata": {},
   "source": [
    "Первым аргументом я указываю свой датасет, затем аргументы x, y - названия колонок (типа Symbol!), затем нужный Geom. Существует множество различных Geom-ов, некоторые мы рассмотрим позднее.\n",
    "\n",
    "Как бы нам теперь раскрасить точки в зависимости от типа цветка?\n",
    "```julia\n",
    "plot(iris, x=:SepalLength, y=:SepalWidth, color = :Species, Geom.point)\n",
    "```\n",
    "![alt text][logo]\n",
    "\n",
    "[logo]: https://raw.githubusercontent.com/kirtsar/julia_tutorials/master/gadfly/pics/dots_colored.png"
   ]
  },
  {
   "cell_type": "markdown",
   "metadata": {},
   "source": [
    "Необходимо просто указать аргумент color с подходящим столбцом. \n",
    "\n",
    "А что, если мне вдруг захотелось, чтобы точки были квадратными?"
   ]
  },
  {
   "cell_type": "markdown",
   "metadata": {},
   "source": [
    "```julia\n",
    "plot(iris, x=:SepalLength, y=:SepalWidth, color = :Species, shape = [Shape.square], Geom.point)\n",
    "```\n",
    "![alt text][logo]\n",
    "\n",
    "[logo]: https://raw.githubusercontent.com/kirtsar/julia_tutorials/master/gadfly/pics/dots_colored_squares.png"
   ]
  },
  {
   "cell_type": "markdown",
   "metadata": {},
   "source": [
    "... да пожирнее бы, а то не видно ничего ..."
   ]
  },
  {
   "cell_type": "markdown",
   "metadata": {},
   "source": [
    "```julia\n",
    "plot(iris, x=:SepalLength, y=:SepalWidth, color = :Species, shape = [Shape.square], size = [7pt], Geom.point)\n",
    "```\n",
    "\n",
    "![alt text][logo]\n",
    "\n",
    "[logo]: https://raw.githubusercontent.com/kirtsar/julia_tutorials/master/gadfly/pics/dots_colored_squares_big.png"
   ]
  },
  {
   "cell_type": "markdown",
   "metadata": {},
   "source": [
    "Заметьте, что и shape, и size - вектора (длины 1)! Более того, без волшебных pt размер у вас не поменяется. \n",
    "\n",
    "Ну хорошо, а если я хочу, чтоб у меня было 3 графика один столбец vs другой столбец, и все они друг под другом рядышком?"
   ]
  },
  {
   "cell_type": "markdown",
   "metadata": {},
   "source": [
    "```julia\n",
    "p1 = plot(iris, x=:SepalLength, y=:SepalWidth, color = :Species, Geom.point);\n",
    "p2 = plot(iris, x=:PetalLength, y=:PetalWidth, color = :Species, Geom.point);\n",
    "p3 = plot(iris, x=:SepalLength, y=:PetalWidth, color = :Species, Geom.point);\n",
    "vstack(p1, p2, p3)\n",
    "```\n",
    "![alt text][logo]\n",
    "\n",
    "[logo]: https://raw.githubusercontent.com/kirtsar/julia_tutorials/master/gadfly/pics/3dots.png"
   ]
  },
  {
   "cell_type": "markdown",
   "metadata": {},
   "source": [
    "Не этого мы хотели! \n",
    "\n",
    "Как бы их сделать побольше, чтоб всё разглядеть?"
   ]
  },
  {
   "cell_type": "markdown",
   "metadata": {
    "collapsed": true
   },
   "source": [
    "```julia\n",
    "set_default_plot_size(8inch, 8inch)\n",
    "```"
   ]
  },
  {
   "cell_type": "markdown",
   "metadata": {},
   "source": [
    "```julia\n",
    "p1 = plot(iris, x=:SepalLength, y=:SepalWidth, color = :Species, Geom.point);\n",
    "p2 = plot(iris, x=:PetalLength, y=:PetalWidth, color = :Species, Geom.point);\n",
    "p3 = plot(iris, x=:SepalLength, y=:PetalWidth, color = :Species, Geom.point);\n",
    "vstack(p1, p2, p3)\n",
    "```\n",
    "![alt text][logo]\n",
    "\n",
    "[logo]: https://raw.githubusercontent.com/kirtsar/julia_tutorials/master/gadfly/pics/3dots_big.png"
   ]
  },
  {
   "cell_type": "markdown",
   "metadata": {},
   "source": [
    "Другое дело! Ну а если мы хотим аж четыре графика рядом? Можно тут не только по вертикали, но и по горизонтали склеить? \n",
    "\n",
    "Можно! Либо тем же hstack, либо используя gridstack.\n",
    "\n",
    "Что нам мелочиться, построим сразу все графики, какие только возможно!"
   ]
  },
  {
   "cell_type": "markdown",
   "metadata": {},
   "source": [
    "```julia\n",
    "myPlots = []\n",
    "```"
   ]
  },
  {
   "cell_type": "markdown",
   "metadata": {
    "collapsed": true
   },
   "source": [
    "```julia\n",
    "set_default_plot_size(8inch, 8inch)\n",
    "```"
   ]
  },
  {
   "cell_type": "markdown",
   "metadata": {},
   "source": [
    "```julia\n",
    "colNames = names(iris)[1 : 4]  #берем только первые четыре столбца\n",
    "```"
   ]
  },
  {
   "cell_type": "markdown",
   "metadata": {
    "collapsed": true
   },
   "source": [
    "```julia\n",
    "for i in 1 : 4\n",
    "    for j in (i + 1) : 4\n",
    "        push!(myPlots, plot(iris, x=colNames[i], y=colNames[j], color = :Species, Geom.point))\n",
    "    end\n",
    "end\n",
    "```"
   ]
  },
  {
   "cell_type": "markdown",
   "metadata": {},
   "source": [
    "```julia\n",
    "gridstack([myPlots[1] myPlots[2]; myPlots[3] myPlots[4]; myPlots[5] myPlots[6]])\n",
    "```\n",
    "\n",
    "![alt text][logo]\n",
    "\n",
    "[logo]: https://raw.githubusercontent.com/kirtsar/julia_tutorials/master/gadfly/pics/6dots_big.png"
   ]
  },
  {
   "cell_type": "markdown",
   "metadata": {},
   "source": [
    "А теперь мы хотим вот чего:\n",
    "1. Нарисовать график синуса жирно красным цветом.\n",
    "2. На том же графике изобразить логарифм, синей пунктирной линией.\n",
    "3. Подписать оси, подписать график!\n",
    "\n",
    "Ну что же, попробуем..."
   ]
  },
  {
   "cell_type": "markdown",
   "metadata": {
    "collapsed": true
   },
   "source": [
    "```julia\n",
    "xs = collect(0.01 : 0.01 : 2pi);\n",
    "# создаем сетку с начальным элементом 0.01, конечным 2pi, с шагом 0.01\n",
    "```"
   ]
  },
  {
   "cell_type": "markdown",
   "metadata": {
    "collapsed": true
   },
   "source": [
    "```julia\n",
    "ys1 = sin.(xs);\n",
    "ys2 = log.(xs);\n",
    "# применяем векторизованные операции sin. и log.\n",
    "```"
   ]
  },
  {
   "cell_type": "markdown",
   "metadata": {},
   "source": [
    "```julia\n",
    "plot(\n",
    "    layer(x = xs, y = ys1, Geom.line, Theme(default_color = \"red\", line_width = 5pt)),\n",
    "    layer(x = xs, y = ys2, Geom.line, Theme(default_color = \"blue\", line_style = :dash)),\n",
    "    Guide.title(\"Мои прекрасные графики\"),\n",
    "    Guide.xlabel(\"Сосиски\"),\n",
    "    Guide.ylabel(\"Счастье\"))\n",
    "```\n",
    "\n",
    "![alt text][logo]\n",
    "\n",
    "[logo]: https://raw.githubusercontent.com/kirtsar/julia_tutorials/master/gadfly/pics/graph_nice.png"
   ]
  },
  {
   "cell_type": "markdown",
   "metadata": {},
   "source": [
    "У \"функции\" Theme есть бесчисленное множество параметров, которые можно варьировать. "
   ]
  }
 ],
 "metadata": {
  "kernelspec": {
   "display_name": "Julia 0.6.0",
   "language": "julia",
   "name": "julia-0.6"
  },
  "language_info": {
   "file_extension": ".jl",
   "mimetype": "application/julia",
   "name": "julia",
   "version": "0.6.0"
  }
 },
 "nbformat": 4,
 "nbformat_minor": 2
}
