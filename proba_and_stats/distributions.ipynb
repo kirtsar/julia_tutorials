{
 "cells": [
  {
   "cell_type": "markdown",
   "metadata": {},
   "source": [
    "# Вероятностные распределения : пакет Distributions."
   ]
  },
  {
   "cell_type": "markdown",
   "metadata": {},
   "source": [
    "Пакет Distributions предоставляет базовый функционал для дискретных и абсолютно непрерывных вероятностных распределений и связанных с ними функций, таких как:\n",
    "1. Функции распределения $F_{\\xi}(x) = \\mathbb{P}[\\xi \\le x]$ и дополнение к функции распределения $1 - F_{\\xi}(x)$.\n",
    "2. Плотности функции распределения $f_{\\xi}(x)$ (для абсолютно непрерывных) и распределение вероятностей дискретной случайной величины $\\mathbb{P}(\\xi = x_k)$.\n",
    "3. Моменты случайных величин (мат. ожидание, дисперсия, коэффициент асимметрии, коэффициент эксцесса); энтропия вероятностного распределения.\n",
    "Для использования пакета для начала его надо установить:\n",
    "```julia\n",
    "using Pkg\n",
    "Pkg.add(\"Distributions\")\n",
    "```"
   ]
  },
  {
   "cell_type": "code",
   "execution_count": 1,
   "metadata": {},
   "outputs": [],
   "source": [
    "using Distributions"
   ]
  },
  {
   "cell_type": "markdown",
   "metadata": {},
   "source": [
    "Задать распределение можно с помощью команды:\n",
    "```julia\n",
    "d = Distributions.<DistributionName>(parameters)\n",
    "```\n",
    "либо без отсылки к пакету Distributions (имена всех распределений импортируются):\n",
    "```julia\n",
    "d = <DistributionName>(parameters)\n",
    "```\n",
    "Некоторые полезные распределения:"
   ]
  },
  {
   "cell_type": "markdown",
   "metadata": {},
   "source": [
    "## Абсолютно непрерывные распределения:"
   ]
  },
  {
   "cell_type": "markdown",
   "metadata": {},
   "source": [
    "### Нормальное распределение\n",
    "```julia\n",
    "d = Normal()\n",
    "d = Normal(mean)\n",
    "d = Normal(mean, sigma)\n",
    "```\n",
    "Первая команда создает нормальное распределение со средним 0 и дисперсией 1 (стандартное нормальное распределение $N(0, 1)$). Вторая команда создает нормальное распределение со средним $mean$ и дисперсией 1: $N(mean, 1)$. Третья команда создает нормальное распределение со средним $mean$ и дисперсией $sigma^2$: $N(mean, sigma)$."
   ]
  },
  {
   "cell_type": "markdown",
   "metadata": {},
   "source": [
    "### Экспоненциальное распределение\n",
    "Плотность распределения:\n",
    "$$ f(x\\,|\\,\\theta) = \\frac{1}{\\theta} e^{-\\frac{x}{\\theta}}, \\, x > 0$$\n",
    "```julia\n",
    "d = Exponential()\n",
    "d = Exponential(theta)\n",
    "```\n",
    "Первая команда создает экспоненциальное распределение с параметром $theta = 1.0$. "
   ]
  },
  {
   "cell_type": "markdown",
   "metadata": {},
   "source": [
    "### Равномерное распределение\n",
    "```julia\n",
    "d = Uniform()\n",
    "d = Uniform(a, b)\n",
    "```\n",
    "Равномерное распределение на отрезке $[a, b]$. По умолчанию (первая строка) параметры $a = 0, b = 1$."
   ]
  },
  {
   "cell_type": "markdown",
   "metadata": {},
   "source": [
    "### Бета-распределение\n",
    "Плотность распределения:\n",
    "$$ f(x\\, |\\, a, b) = \\frac{1}{B(\\alpha, \\beta)} x^{\\alpha - 1} (1-x)^{\\beta - 1} , x \\in [0, 1]$$\n",
    "```julia\n",
    "Beta()        # equivalent to Beta(1, 1)\n",
    "Beta(a)       # equivalent to Beta(a, a)\n",
    "Beta(a, b)    # Beta distribution with shape parameters a and b\n",
    "```\n",
    "Первая команда создает распределение Beta(1, 1), вторая - распределение Beta(a, a)."
   ]
  },
  {
   "cell_type": "markdown",
   "metadata": {},
   "source": [
    "### Хи-квадрат\n",
    "Плотность распределения:\n",
    "$$ f(x \\, | \\, k) = \\frac{1}{2^{k/2}} \\frac{1}{\\Gamma(k/2)} x^{\\frac{k}{2} - 1} e^{-\\frac{x}{2}}$$\n",
    "```julia\n",
    "d = Chisq(k)\n",
    "```\n",
    "Распределение $\\chi^2$ с $k$ степенями свободы."
   ]
  },
  {
   "cell_type": "markdown",
   "metadata": {},
   "source": [
    "Разумеется, это не все доступные абсолютно непрерывные распределения. С полным списком поддерживаемых распределений можно ознакомиться на странице пакета Distributions."
   ]
  },
  {
   "cell_type": "markdown",
   "metadata": {},
   "source": [
    "## Дискретные распределения"
   ]
  },
  {
   "cell_type": "markdown",
   "metadata": {},
   "source": [
    "### Распределение Бернулли\n",
    "```julia\n",
    "Bernoulli()\n",
    "Bernoulli(p)\n",
    "```\n",
    "По умолчанию параметр $p = 0.5$."
   ]
  },
  {
   "cell_type": "markdown",
   "metadata": {},
   "source": [
    "### Распределение Пуассона\n",
    "```julia\n",
    "Poisson()\n",
    "Poisson(lambda)\n",
    "```\n",
    "По умолчанию параметр $lambda = 1.$"
   ]
  },
  {
   "cell_type": "markdown",
   "metadata": {},
   "source": [
    "### Геометрическое распределение\n",
    "Количество неудач до первого успеха.\n",
    "$$\\mathbb{P}(X = k) = p (1 - p)^{k}, k = 0, 1, 2, \\ldots$$\n",
    "```julia\n",
    "Geometric()\n",
    "Geometric(p)\n",
    "```\n",
    "По умолчанию параметр $p = 0.5$."
   ]
  },
  {
   "cell_type": "markdown",
   "metadata": {},
   "source": [
    "### Дискретное равномерное распределение\n",
    "$$ \\mathbb{P}(X = k) = \\frac{1}{b - a + 1}, k = a, a+1, \\ldots b$$\n",
    "```julia\n",
    "DiscreteUniform(a, b)\n",
    "```\n",
    "Внимание: $a, b$ должны быть целыми либо допускать преобразование в целое без ошибки InexactError."
   ]
  },
  {
   "cell_type": "markdown",
   "metadata": {},
   "source": [
    "### Произвольное дискретное конечное распределение\n",
    "$$\\mathbb{P}(X = k) = p[k], k = 1, 2, \\ldots M, \\sum_{k=1}^M p[k] = 1$$\n",
    "```julia\n",
    "Categorical(p)\n",
    "```\n",
    "$p$ - вектор вероятностей."
   ]
  },
  {
   "cell_type": "markdown",
   "metadata": {},
   "source": [
    "Опять же, список дискретных распределений неполный. Полный список поддерживаемых распределений можно получить, используя команду ?Distributions в REPL (либо зайдя на сайт пакета).\n",
    "```\n",
    "  Arcsine, Bernoulli, Beta, BetaBinomial, BetaPrime, Binomial, Biweight,\n",
    "  Categorical, Cauchy, Chi, Chisq, Cosine, DiagNormal, DiagNormalCanon,\n",
    "  Dirichlet, DiscreteUniform, DoubleExponential, EdgeworthMean,\n",
    "  EdgeworthSum, EdgeworthZ, EmpiricalUnivariateDistribution, Erlang,\n",
    "  Epanechnikov, Exponential, FDist, FisherNoncentralHypergeometric,\n",
    "  Frechet, FullNormal, FullNormalCanon, Gamma, GeneralizedPareto,\n",
    "  GeneralizedExtremeValue, Geometric, Gumbel, Hypergeometric,\n",
    "  InverseWishart, InverseGamma, InverseGaussian, IsoNormal,\n",
    "  IsoNormalCanon, Kolmogorov, KSDist, KSOneSided, Laplace, Levy,\n",
    "  Logistic, LogNormal, MixtureModel, Multinomial, MultivariateNormal,\n",
    "  MvLogNormal, MvNormal, MvNormalCanon, MvNormalKnownCov, MvTDist,\n",
    "  NegativeBinomial, NoncentralBeta, NoncentralChisq, NoncentralF,\n",
    "  NoncentralHypergeometric, NoncentralT, Normal, NormalCanon,\n",
    "  NormalInverseGaussian, Pareto, Poisson, PoissonBinomial,\n",
    "  QQPair, Rayleigh, Skellam, SymTriangularDist, TDist, TriangularDist,\n",
    "  Triweight, Truncated, TruncatedNormal, Uniform, UnivariateGMM,\n",
    "  VonMises, VonMisesFisher, WalleniusNoncentralHypergeometric, Weibull,\n",
    "  Wishart, ZeroMeanIsoNormal, ZeroMeanIsoNormalCanon,\n",
    "  ZeroMeanDiagNormal, ZeroMeanDiagNormalCanon, ZeroMeanFullNormal,\n",
    "  ZeroMeanFullNormalCanon\n",
    "```"
   ]
  },
  {
   "cell_type": "markdown",
   "metadata": {},
   "source": [
    "## Полезные функции"
   ]
  },
  {
   "cell_type": "markdown",
   "metadata": {},
   "source": [
    "### Функция распределения, выборка, квантиль\n",
    "```julia\n",
    "cdf(d, x)\n",
    "```\n",
    "Вычислить функцию распределения d в точке x\n",
    "\n",
    "```julia\n",
    "pdf(d, x)\n",
    "```\n",
    "Вычислить плотность распределения d в точке х.\n",
    "\n",
    "```julia\n",
    "rand(d, n)\n",
    "```\n",
    "Получить выборку размера n из распределения d.\n",
    "\n",
    "```julia\n",
    "rand!(d, x)\n",
    "```\n",
    "Заполнить массив x элементами, выбранными случайно из распределения d. Память не аллокируется. Часто перед использованием необходимо дополнительно использовать модуль Random (using Random).\n",
    "\n",
    "```julia\n",
    "quantile(d, alpha)\n",
    "```\n",
    "Квантиль распределения d уровня alpha (решение уравнения $F_{\\xi}(x) = \\alpha$)\n",
    "\n",
    "```julia\n",
    "quantile(d, [alphas])\n",
    "```\n",
    "Массив квантилей распределения d соответствующих уровней. К примеру, код\n",
    "```julia\n",
    "quantile(Normal(), [0.5, 0.95])\n",
    "```\n",
    "выдаст массив из двух элементов (медиана, 95%-ная квантиль) для стандартного нормального распределения."
   ]
  },
  {
   "cell_type": "markdown",
   "metadata": {},
   "source": [
    "### Характеристики распределения: центральные меры тенденции, характеристическая функция, производящая функция\n",
    "```julia\n",
    "mean(d)       # математическое ожидание, среднее значение\n",
    "var(d)        # дисперсия\n",
    "std(d)        # стандартное отклонение\n",
    "median(d)     # медиана\n",
    "mode(d)       # мода (первая)\n",
    "modes(d)      # все моды распределения\n",
    "skewness(d)   # коэффициент асимметрии\n",
    "kurtosis(d)   # коэффициент эксцесса\n",
    "entropy(d)    # энтропия распределения\n",
    "cf(d, t)      # значение характеристической функции в точке t\n",
    "mgf(d, t)     # производящая функция моментов в точке t\n",
    "```"
   ]
  },
  {
   "cell_type": "markdown",
   "metadata": {},
   "source": [
    "### \"Подгонка\" распределения.\n",
    "```julia\n",
    "fit(D, x)\n",
    "```\n",
    "По данным наблюдениям $x$ (массив наблюдений) julia подбирает параметры распределения D (чаще всего - по методу максимального правдоподобия, однако it depends - бывают и другие методы). Важно, что D - это тип (type) распределения, а не само распределение. Пример использования:"
   ]
  },
  {
   "cell_type": "code",
   "execution_count": 3,
   "metadata": {},
   "outputs": [
    {
     "data": {
      "text/plain": [
       "Normal{Float64}(μ=-0.023289228339368737, σ=1.0086248775651658)"
      ]
     },
     "execution_count": 3,
     "metadata": {},
     "output_type": "execute_result"
    }
   ],
   "source": [
    "d = Normal()\n",
    "x = rand(d, 1000)\n",
    "fit(Normal, x)"
   ]
  },
  {
   "cell_type": "markdown",
   "metadata": {},
   "source": [
    "Мы видим, что значения получились близкие к \"настоящим\" (0, 1). Функция fit работает не для всех распределений; иногда она может быть заменена на функцию fit_mle, которая подбирает коэффициенты по методу максимального правдоподобия:\n",
    "```julia\n",
    "fit_mle(D, x)\n",
    "```"
   ]
  },
  {
   "cell_type": "markdown",
   "metadata": {},
   "source": [
    "## Задачи на \"подумать\":\n",
    "1. Утверждается, что если у нас есть две случайные величины X, Y, равномерно распределенные на интервале (0, 1], то мы можем получить нормально распределенную случайную величину следующим образом\n",
    "$$Z = \\cos{2\\pi X}\\sqrt{-2\\ln{Y}}$$\n",
    "Проверить эмпирически данное утверждение. Проверить с помощью статистических критериев (Андерсон-Дарлинг, Колмогоров-Смирнов,...).\n",
    "\n",
    "2. Утверждается, что сумма независимых Пуассоновских случайных величин вновь подчиняется распределению Пуассона. Проверить эмпирически.\n",
    "\n",
    "3. Изучить взаимосвязь между мерами центральной тенденции и производящей функцией моментов. "
   ]
  },
  {
   "cell_type": "code",
   "execution_count": null,
   "metadata": {},
   "outputs": [],
   "source": []
  }
 ],
 "metadata": {
  "kernelspec": {
   "display_name": "Julia 1.0.0",
   "language": "julia",
   "name": "julia-1.0"
  },
  "language_info": {
   "file_extension": ".jl",
   "mimetype": "application/julia",
   "name": "julia",
   "version": "1.0.0"
  }
 },
 "nbformat": 4,
 "nbformat_minor": 2
}
